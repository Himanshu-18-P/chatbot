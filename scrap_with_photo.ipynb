{
 "cells": [
  {
   "cell_type": "markdown",
   "id": "22bedb0c",
   "metadata": {},
   "source": [
    "# pdf with image description"
   ]
  },
  {
   "cell_type": "code",
   "execution_count": 8,
   "id": "29a194bf",
   "metadata": {},
   "outputs": [
    {
     "name": "stdout",
     "output_type": "stream",
     "text": [
      "Total Number of Images: 21\n",
      "PDF generated: cat_d.pdf\n"
     ]
    }
   ],
   "source": [
    "import requests\n",
    "from bs4 import BeautifulSoup\n",
    "from fpdf import FPDF\n",
    "import re\n",
    "\n",
    "def scrape_wikipedia(url):\n",
    "    response = requests.get(url)\n",
    "    soup = BeautifulSoup(response.text, 'html.parser')\n",
    "\n",
    "    content = {}\n",
    "    current_heading = \"\"\n",
    "    image_descriptions = {}\n",
    "\n",
    "    figure_counter = 0\n",
    "\n",
    "    for element in soup.find_all(['p', 'h2', 'figure']):\n",
    "        if element.name == 'h2':\n",
    "            current_heading = element.text.strip()\n",
    "            content[current_heading] = \"\"\n",
    "        elif element.name == 'p' and current_heading:\n",
    "            paragraph_text = element.text.strip()\n",
    "            # Remove content like [1], [2], etc.\n",
    "            paragraph_text = re.sub(r'\\[\\d+\\]', '', paragraph_text)\n",
    "            content[current_heading] += paragraph_text + '\\n'\n",
    "        elif element.name == 'figure':\n",
    "            figcaption = element.find('figcaption')\n",
    "            if figcaption:\n",
    "                # Extract image description from <figcaption>\n",
    "                image_description = figcaption.text.strip()\n",
    "                if current_heading not in image_descriptions:\n",
    "                    image_descriptions[current_heading] = []\n",
    "                image_descriptions[current_heading].append({'figure': f'Figure{figure_counter}', 'description': image_description})\n",
    "                figure_counter += 1\n",
    "\n",
    "    return content, image_descriptions\n",
    "\n",
    "def count_images(image_descriptions):\n",
    "    total_images = sum(len(images) for images in image_descriptions.values())\n",
    "    return total_images\n",
    "\n",
    "def create_pdf(content, image_descriptions, pdf_file):\n",
    "    pdf = FPDF()\n",
    "    pdf.add_page()\n",
    "\n",
    "    for key, value in content.items():\n",
    "        pdf.set_font(\"Arial\", style='B', size=12)\n",
    "        pdf.cell(200, 10, txt=key, ln=True, align='C')\n",
    "\n",
    "        pdf.set_font(\"Arial\", size=10)\n",
    "        pdf.multi_cell(0, 10, txt=str(value).encode('latin-1', 'replace').decode('latin-1'))\n",
    "        pdf.ln(5)\n",
    "\n",
    "        # Add image descriptions to the PDF with figures\n",
    "        if key in image_descriptions:\n",
    "            pdf.set_font(\"Arial\", style='I', size=10)\n",
    "            for image_data in image_descriptions[key]:\n",
    "                description = image_data['description']\n",
    "                figure = image_data['figure']\n",
    "                pdf.cell(200, 10, txt=f\"{figure}: {description}\", ln=True)\n",
    "\n",
    "    total_images = count_images(image_descriptions)\n",
    "    print(f\"Total Number of Images: {total_images}\")\n",
    "\n",
    "    pdf.output(pdf_file)\n",
    "\n",
    "def main():\n",
    "    url = \"https://en.wikipedia.org/wiki/Cat\"\n",
    "    content, image_descriptions = scrape_wikipedia(url)\n",
    "    pdf_file = 'cat_d.pdf'\n",
    "    create_pdf(content, image_descriptions, pdf_file)\n",
    "    print(f'PDF generated: {pdf_file}')\n",
    "\n",
    "if __name__ == \"__main__\":\n",
    "    main()\n"
   ]
  },
  {
   "cell_type": "markdown",
   "id": "5e1cab7b",
   "metadata": {},
   "source": [
    "# additional feature "
   ]
  },
  {
   "cell_type": "code",
   "execution_count": 9,
   "id": "7d97089b",
   "metadata": {},
   "outputs": [
    {
     "name": "stdout",
     "output_type": "stream",
     "text": [
      "Total Number of Images: 24\n",
      "PDF generated: Nike_Inc_Info.pdf\n"
     ]
    }
   ],
   "source": [
    "import requests\n",
    "from bs4 import BeautifulSoup\n",
    "from fpdf import FPDF\n",
    "import re\n",
    "\n",
    "def scrape_wikipedia(url):\n",
    "    response = requests.get(url)\n",
    "    soup = BeautifulSoup(response.text, 'html.parser')\n",
    "\n",
    "    content = {}\n",
    "    current_heading = \"\"\n",
    "    image_descriptions = {}\n",
    "\n",
    "    figure_counter = 0\n",
    "\n",
    "    for element in soup.find_all(['p', 'h2', 'figure', 'div']):\n",
    "        if element.name == 'h2':\n",
    "            current_heading = element.text.strip()\n",
    "            content[current_heading] = \"\"\n",
    "        elif element.name == 'p' and current_heading:\n",
    "            paragraph_text = element.text.strip()\n",
    "            # Remove content like [1], [2], etc.\n",
    "            paragraph_text = re.sub(r'\\[\\d+\\]', '', paragraph_text)\n",
    "            content[current_heading] += paragraph_text + '\\n'\n",
    "        elif element.name == 'figure':\n",
    "            figcaption = element.find('figcaption')\n",
    "            if figcaption:\n",
    "                # Extract image description from <figcaption>\n",
    "                image_description = figcaption.text.strip()\n",
    "                if current_heading not in image_descriptions:\n",
    "                    image_descriptions[current_heading] = []\n",
    "                image_descriptions[current_heading].append({'figure': f'Figure{figure_counter}', 'description': image_description})\n",
    "                figure_counter += 1\n",
    "        elif element.name == 'div' and 'infobox-caption' in element.get('class', []):\n",
    "            # Extract image description from infobox-caption\n",
    "            image_description = element.text.strip()\n",
    "            if current_heading not in image_descriptions:\n",
    "                image_descriptions[current_heading] = []\n",
    "            image_descriptions[current_heading].append({'figure': f'Figure{figure_counter}', 'description': image_description})\n",
    "            figure_counter += 1\n",
    "\n",
    "    return content, image_descriptions\n",
    "\n",
    "def count_images(image_descriptions):\n",
    "    total_images = sum(len(images) for images in image_descriptions.values())\n",
    "    return total_images\n",
    "\n",
    "def create_pdf(content, image_descriptions, pdf_file):\n",
    "    pdf = FPDF()\n",
    "    pdf.add_page()\n",
    "\n",
    "    for key, value in content.items():\n",
    "        pdf.set_font(\"Arial\", style='B', size=12)\n",
    "        pdf.cell(200, 10, txt=key, ln=True, align='C')\n",
    "\n",
    "        pdf.set_font(\"Arial\", size=10)\n",
    "        pdf.multi_cell(0, 10, txt=str(value).encode('latin-1', 'replace').decode('latin-1'))\n",
    "        pdf.ln(5)\n",
    "\n",
    "        # Add image descriptions to the PDF with figures\n",
    "        if key in image_descriptions:\n",
    "            pdf.set_font(\"Arial\", style='I', size=10)\n",
    "            for image_data in image_descriptions[key]:\n",
    "                description = image_data['description']\n",
    "                figure = image_data['figure']\n",
    "                pdf.cell(200, 10, txt=f\"{figure}: {description}\", ln=True)\n",
    "\n",
    "    total_images = count_images(image_descriptions)\n",
    "    print(f\"Total Number of Images: {total_images}\")\n",
    "\n",
    "    pdf.output(pdf_file)\n",
    "\n",
    "def main():\n",
    "    url = \"https://en.wikipedia.org/wiki/Nike,_Inc.\"\n",
    "    content, image_descriptions = scrape_wikipedia(url)\n",
    "    pdf_file = 'Nike_Inc_Info.pdf'\n",
    "    create_pdf(content, image_descriptions, pdf_file)\n",
    "    print(f'PDF generated: {pdf_file}')\n",
    "\n",
    "if __name__ == \"__main__\":\n",
    "    main()\n"
   ]
  },
  {
   "cell_type": "code",
   "execution_count": null,
   "id": "3c5d006c",
   "metadata": {},
   "outputs": [],
   "source": []
  }
 ],
 "metadata": {
  "kernelspec": {
   "display_name": "Python 3 (ipykernel)",
   "language": "python",
   "name": "python3"
  },
  "language_info": {
   "codemirror_mode": {
    "name": "ipython",
    "version": 3
   },
   "file_extension": ".py",
   "mimetype": "text/x-python",
   "name": "python",
   "nbconvert_exporter": "python",
   "pygments_lexer": "ipython3",
   "version": "3.11.3"
  },
  "varInspector": {
   "cols": {
    "lenName": 16,
    "lenType": 16,
    "lenVar": 40
   },
   "kernels_config": {
    "python": {
     "delete_cmd_postfix": "",
     "delete_cmd_prefix": "del ",
     "library": "var_list.py",
     "varRefreshCmd": "print(var_dic_list())"
    },
    "r": {
     "delete_cmd_postfix": ") ",
     "delete_cmd_prefix": "rm(",
     "library": "var_list.r",
     "varRefreshCmd": "cat(var_dic_list()) "
    }
   },
   "types_to_exclude": [
    "module",
    "function",
    "builtin_function_or_method",
    "instance",
    "_Feature"
   ],
   "window_display": false
  }
 },
 "nbformat": 4,
 "nbformat_minor": 5
}
